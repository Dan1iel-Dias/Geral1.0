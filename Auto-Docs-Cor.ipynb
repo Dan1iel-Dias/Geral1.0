{
 "cells": [
  {
   "cell_type": "code",
   "execution_count": 2,
   "id": "9b7d594b-b854-4459-af9c-177be26c868b",
   "metadata": {},
   "outputs": [
    {
     "name": "stdout",
     "output_type": "stream",
     "text": [
      "✔ Editado: Aviso - Bernardo Nathan Ferreira Barboza.docx\n",
      "✔ Editado: Aviso - Bryan Henrique de Araujo.docx\n",
      "✔ Editado: Aviso - Davi Tavares da Silva_.docx\n",
      "✔ Editado: Aviso - Emanuel Sousa Gomes.docx\n",
      "✔ Editado: Aviso - Felipe Cordeiro de Albuquerque.docx\n",
      "✔ Editado: Aviso - Felipe Navarro do Nascimento.docx\n",
      "✔ Editado: Aviso - Gabriel da Silva Fernandes Goes.docx\n",
      "✔ Editado: Aviso - Jean Souza da Silva.docx\n",
      "✔ Editado: Aviso - João Marcos Rodrigues de Souza_.docx\n",
      "✔ Editado: Aviso - Kauã de Carvalho Nascimento.docx\n",
      "✔ Editado: Aviso - Richard Jeronimo Lima da Silva.docx\n",
      "✔ Editado: Aviso - Ruan Santos Marques de Miranda.docx\n",
      "✔ Editado: Aviso - Samuel Flay Dias Melo.docx\n",
      "\n",
      "✅ Concluído! 13 arquivo(s) formatado(s).\n"
     ]
    }
   ],
   "source": [
    "import os\n",
    "from docx import Document\n",
    "from docx.shared import RGBColor\n",
    "\n",
    "def aplicar_vermelho_em_data(pasta=\"Avisos Academicos\"):\n",
    "    if not os.path.exists(pasta):\n",
    "        print(f\"❌ Pasta não encontrada: {pasta}\")\n",
    "        return\n",
    "\n",
    "    arquivos_editados = 0\n",
    "\n",
    "    for nome_arquivo in os.listdir(pasta):\n",
    "        if nome_arquivo.endswith('.docx') and nome_arquivo.startswith('Aviso - '):\n",
    "            caminho_arquivo = os.path.join(pasta, nome_arquivo)\n",
    "            doc = Document(caminho_arquivo)\n",
    "            alterado = False\n",
    "\n",
    "            for p in doc.paragraphs:\n",
    "                if \"será na data:\" in p.text:\n",
    "                    partes = p.text.split(\"será na data:\")\n",
    "                    if len(partes) >= 2:\n",
    "                        antes = partes[0] + \"será na data:\"\n",
    "                        depois = partes[1].strip()\n",
    "\n",
    "                        p.clear()\n",
    "                        p.add_run(antes + \" \")\n",
    "\n",
    "                        run_vermelho = p.add_run(depois)\n",
    "                        run_vermelho.font.color.rgb = RGBColor(0xFF, 0x00, 0x00)\n",
    "\n",
    "                        alterado = True\n",
    "\n",
    "            if alterado:\n",
    "                doc.save(caminho_arquivo)\n",
    "                arquivos_editados += 1\n",
    "                print(f\"✔ Editado: {nome_arquivo}\")\n",
    "            else:\n",
    "                print(f\"⚠ Sem alteração: {nome_arquivo}\")\n",
    "\n",
    "    print(f\"\\n✅ Concluído! {arquivos_editados} arquivo(s) formatado(s).\")\n",
    "\n",
    "# Executa automaticamente\n",
    "if __name__ == \"__main__\":\n",
    "    aplicar_vermelho_em_data(\"Avisos Academicos\")\n"
   ]
  },
  {
   "cell_type": "code",
   "execution_count": 2,
   "id": "d3350991-e4dc-4249-b05b-ed27e04ca52d",
   "metadata": {},
   "outputs": [
    {
     "name": "stderr",
     "output_type": "stream",
     "text": [
      "Failed to import jpype dependencies. Fallback to subprocess.\n",
      "No module named 'jpype'\n"
     ]
    },
    {
     "ename": "JavaNotFoundError",
     "evalue": "`java` command is not found from this Python process.Please ensure Java is installed and PATH is set for `java`",
     "output_type": "error",
     "traceback": [
      "\u001b[1;31m---------------------------------------------------------------------------\u001b[0m",
      "\u001b[1;31mFileNotFoundError\u001b[0m                         Traceback (most recent call last)",
      "File \u001b[1;32m~\\AppData\\Local\\anaconda3\\Lib\\site-packages\\tabula\\backend.py:122\u001b[0m, in \u001b[0;36mSubprocessTabula.call_tabula_java\u001b[1;34m(self, options, path)\u001b[0m\n\u001b[0;32m    121\u001b[0m \u001b[38;5;28;01mtry\u001b[39;00m:\n\u001b[1;32m--> 122\u001b[0m     result \u001b[38;5;241m=\u001b[39m subprocess\u001b[38;5;241m.\u001b[39mrun(\n\u001b[0;32m    123\u001b[0m         args,\n\u001b[0;32m    124\u001b[0m         stdout\u001b[38;5;241m=\u001b[39msubprocess\u001b[38;5;241m.\u001b[39mPIPE,\n\u001b[0;32m    125\u001b[0m         stderr\u001b[38;5;241m=\u001b[39msubprocess\u001b[38;5;241m.\u001b[39mPIPE,\n\u001b[0;32m    126\u001b[0m         stdin\u001b[38;5;241m=\u001b[39msubprocess\u001b[38;5;241m.\u001b[39mDEVNULL,\n\u001b[0;32m    127\u001b[0m         check\u001b[38;5;241m=\u001b[39m\u001b[38;5;28;01mTrue\u001b[39;00m,\n\u001b[0;32m    128\u001b[0m     )\n\u001b[0;32m    129\u001b[0m     \u001b[38;5;28;01mif\u001b[39;00m result\u001b[38;5;241m.\u001b[39mstderr:\n",
      "File \u001b[1;32m~\\AppData\\Local\\anaconda3\\Lib\\subprocess.py:554\u001b[0m, in \u001b[0;36mrun\u001b[1;34m(input, capture_output, timeout, check, *popenargs, **kwargs)\u001b[0m\n\u001b[0;32m    552\u001b[0m     kwargs[\u001b[38;5;124m'\u001b[39m\u001b[38;5;124mstderr\u001b[39m\u001b[38;5;124m'\u001b[39m] \u001b[38;5;241m=\u001b[39m PIPE\n\u001b[1;32m--> 554\u001b[0m \u001b[38;5;28;01mwith\u001b[39;00m Popen(\u001b[38;5;241m*\u001b[39mpopenargs, \u001b[38;5;241m*\u001b[39m\u001b[38;5;241m*\u001b[39mkwargs) \u001b[38;5;28;01mas\u001b[39;00m process:\n\u001b[0;32m    555\u001b[0m     \u001b[38;5;28;01mtry\u001b[39;00m:\n",
      "File \u001b[1;32m~\\AppData\\Local\\anaconda3\\Lib\\subprocess.py:1039\u001b[0m, in \u001b[0;36mPopen.__init__\u001b[1;34m(self, args, bufsize, executable, stdin, stdout, stderr, preexec_fn, close_fds, shell, cwd, env, universal_newlines, startupinfo, creationflags, restore_signals, start_new_session, pass_fds, user, group, extra_groups, encoding, errors, text, umask, pipesize, process_group)\u001b[0m\n\u001b[0;32m   1036\u001b[0m             \u001b[38;5;28mself\u001b[39m\u001b[38;5;241m.\u001b[39mstderr \u001b[38;5;241m=\u001b[39m io\u001b[38;5;241m.\u001b[39mTextIOWrapper(\u001b[38;5;28mself\u001b[39m\u001b[38;5;241m.\u001b[39mstderr,\n\u001b[0;32m   1037\u001b[0m                     encoding\u001b[38;5;241m=\u001b[39mencoding, errors\u001b[38;5;241m=\u001b[39merrors)\n\u001b[1;32m-> 1039\u001b[0m     \u001b[38;5;28mself\u001b[39m\u001b[38;5;241m.\u001b[39m_execute_child(args, executable, preexec_fn, close_fds,\n\u001b[0;32m   1040\u001b[0m                         pass_fds, cwd, env,\n\u001b[0;32m   1041\u001b[0m                         startupinfo, creationflags, shell,\n\u001b[0;32m   1042\u001b[0m                         p2cread, p2cwrite,\n\u001b[0;32m   1043\u001b[0m                         c2pread, c2pwrite,\n\u001b[0;32m   1044\u001b[0m                         errread, errwrite,\n\u001b[0;32m   1045\u001b[0m                         restore_signals,\n\u001b[0;32m   1046\u001b[0m                         gid, gids, uid, umask,\n\u001b[0;32m   1047\u001b[0m                         start_new_session, process_group)\n\u001b[0;32m   1048\u001b[0m \u001b[38;5;28;01mexcept\u001b[39;00m:\n\u001b[0;32m   1049\u001b[0m     \u001b[38;5;66;03m# Cleanup if the child failed starting.\u001b[39;00m\n",
      "File \u001b[1;32m~\\AppData\\Local\\anaconda3\\Lib\\subprocess.py:1554\u001b[0m, in \u001b[0;36mPopen._execute_child\u001b[1;34m(self, args, executable, preexec_fn, close_fds, pass_fds, cwd, env, startupinfo, creationflags, shell, p2cread, p2cwrite, c2pread, c2pwrite, errread, errwrite, unused_restore_signals, unused_gid, unused_gids, unused_uid, unused_umask, unused_start_new_session, unused_process_group)\u001b[0m\n\u001b[0;32m   1553\u001b[0m \u001b[38;5;28;01mtry\u001b[39;00m:\n\u001b[1;32m-> 1554\u001b[0m     hp, ht, pid, tid \u001b[38;5;241m=\u001b[39m _winapi\u001b[38;5;241m.\u001b[39mCreateProcess(executable, args,\n\u001b[0;32m   1555\u001b[0m                              \u001b[38;5;66;03m# no special security\u001b[39;00m\n\u001b[0;32m   1556\u001b[0m                              \u001b[38;5;28;01mNone\u001b[39;00m, \u001b[38;5;28;01mNone\u001b[39;00m,\n\u001b[0;32m   1557\u001b[0m                              \u001b[38;5;28mint\u001b[39m(\u001b[38;5;129;01mnot\u001b[39;00m close_fds),\n\u001b[0;32m   1558\u001b[0m                              creationflags,\n\u001b[0;32m   1559\u001b[0m                              env,\n\u001b[0;32m   1560\u001b[0m                              cwd,\n\u001b[0;32m   1561\u001b[0m                              startupinfo)\n\u001b[0;32m   1562\u001b[0m \u001b[38;5;28;01mfinally\u001b[39;00m:\n\u001b[0;32m   1563\u001b[0m     \u001b[38;5;66;03m# Child is launched. Close the parent's copy of those pipe\u001b[39;00m\n\u001b[0;32m   1564\u001b[0m     \u001b[38;5;66;03m# handles that only the child should have open.  You need\u001b[39;00m\n\u001b[1;32m   (...)\u001b[0m\n\u001b[0;32m   1567\u001b[0m     \u001b[38;5;66;03m# pipe will not close when the child process exits and the\u001b[39;00m\n\u001b[0;32m   1568\u001b[0m     \u001b[38;5;66;03m# ReadFile will hang.\u001b[39;00m\n",
      "\u001b[1;31mFileNotFoundError\u001b[0m: [WinError 2] O sistema não pode encontrar o arquivo especificado",
      "\nDuring handling of the above exception, another exception occurred:\n",
      "\u001b[1;31mJavaNotFoundError\u001b[0m                         Traceback (most recent call last)",
      "Cell \u001b[1;32mIn[2], line 12\u001b[0m\n\u001b[0;32m      9\u001b[0m coluna_destino \u001b[38;5;241m=\u001b[39m \u001b[38;5;124m'\u001b[39m\u001b[38;5;124mC\u001b[39m\u001b[38;5;124m'\u001b[39m  \u001b[38;5;66;03m# Coluna onde os nomes serão escritos (ex: 'C')\u001b[39;00m\n\u001b[0;32m     11\u001b[0m \u001b[38;5;66;03m# === 1. Lê o PDF e extrai as tabelas ===\u001b[39;00m\n\u001b[1;32m---> 12\u001b[0m tabelas \u001b[38;5;241m=\u001b[39m tabula\u001b[38;5;241m.\u001b[39mread_pdf(arquivo_pdf, pages\u001b[38;5;241m=\u001b[39m\u001b[38;5;124m'\u001b[39m\u001b[38;5;124mall\u001b[39m\u001b[38;5;124m'\u001b[39m, multiple_tables\u001b[38;5;241m=\u001b[39m\u001b[38;5;28;01mTrue\u001b[39;00m)\n\u001b[0;32m     14\u001b[0m \u001b[38;5;28;01mif\u001b[39;00m \u001b[38;5;129;01mnot\u001b[39;00m tabelas:\n\u001b[0;32m     15\u001b[0m     \u001b[38;5;28mprint\u001b[39m(\u001b[38;5;124m\"\u001b[39m\u001b[38;5;124m❌ Nenhuma tabela encontrada no PDF.\u001b[39m\u001b[38;5;124m\"\u001b[39m)\n",
      "File \u001b[1;32m~\\AppData\\Local\\anaconda3\\Lib\\site-packages\\tabula\\io.py:400\u001b[0m, in \u001b[0;36mread_pdf\u001b[1;34m(input_path, output_format, encoding, java_options, pandas_options, multiple_tables, user_agent, use_raw_url, pages, guess, area, relative_area, lattice, stream, password, silent, columns, relative_columns, format, batch, output_path, force_subprocess, options)\u001b[0m\n\u001b[0;32m    397\u001b[0m     \u001b[38;5;28;01mraise\u001b[39;00m \u001b[38;5;167;01mValueError\u001b[39;00m(\u001b[38;5;124mf\u001b[39m\u001b[38;5;124m\"\u001b[39m\u001b[38;5;132;01m{\u001b[39;00mpath\u001b[38;5;132;01m}\u001b[39;00m\u001b[38;5;124m is empty. Check the file, or download it manually.\u001b[39m\u001b[38;5;124m\"\u001b[39m)\n\u001b[0;32m    399\u001b[0m \u001b[38;5;28;01mtry\u001b[39;00m:\n\u001b[1;32m--> 400\u001b[0m     output \u001b[38;5;241m=\u001b[39m _run(\n\u001b[0;32m    401\u001b[0m         tabula_options,\n\u001b[0;32m    402\u001b[0m         java_options,\n\u001b[0;32m    403\u001b[0m         path,\n\u001b[0;32m    404\u001b[0m         encoding\u001b[38;5;241m=\u001b[39mencoding,\n\u001b[0;32m    405\u001b[0m         force_subprocess\u001b[38;5;241m=\u001b[39mforce_subprocess,\n\u001b[0;32m    406\u001b[0m     )\n\u001b[0;32m    407\u001b[0m \u001b[38;5;28;01mfinally\u001b[39;00m:\n\u001b[0;32m    408\u001b[0m     \u001b[38;5;28;01mif\u001b[39;00m temporary:\n",
      "File \u001b[1;32m~\\AppData\\Local\\anaconda3\\Lib\\site-packages\\tabula\\io.py:86\u001b[0m, in \u001b[0;36m_run\u001b[1;34m(options, java_options, path, encoding, force_subprocess)\u001b[0m\n\u001b[0;32m     83\u001b[0m \u001b[38;5;28;01melif\u001b[39;00m \u001b[38;5;28mset\u001b[39m(java_options) \u001b[38;5;241m-\u001b[39m IGNORED_JAVA_OPTIONS:\n\u001b[0;32m     84\u001b[0m     logger\u001b[38;5;241m.\u001b[39mwarning(\u001b[38;5;124m\"\u001b[39m\u001b[38;5;124mjava_options is ignored until rebooting the Python process.\u001b[39m\u001b[38;5;124m\"\u001b[39m)\n\u001b[1;32m---> 86\u001b[0m \u001b[38;5;28;01mreturn\u001b[39;00m _tabula_vm\u001b[38;5;241m.\u001b[39mcall_tabula_java(options, path)\n",
      "File \u001b[1;32m~\\AppData\\Local\\anaconda3\\Lib\\site-packages\\tabula\\backend.py:133\u001b[0m, in \u001b[0;36mSubprocessTabula.call_tabula_java\u001b[1;34m(self, options, path)\u001b[0m\n\u001b[0;32m    131\u001b[0m     \u001b[38;5;28;01mreturn\u001b[39;00m result\u001b[38;5;241m.\u001b[39mstdout\u001b[38;5;241m.\u001b[39mdecode(\u001b[38;5;28mself\u001b[39m\u001b[38;5;241m.\u001b[39mencoding)\n\u001b[0;32m    132\u001b[0m \u001b[38;5;28;01mexcept\u001b[39;00m \u001b[38;5;167;01mFileNotFoundError\u001b[39;00m:\n\u001b[1;32m--> 133\u001b[0m     \u001b[38;5;28;01mraise\u001b[39;00m JavaNotFoundError(JAVA_NOT_FOUND_ERROR)\n\u001b[0;32m    134\u001b[0m \u001b[38;5;28;01mexcept\u001b[39;00m subprocess\u001b[38;5;241m.\u001b[39mCalledProcessError \u001b[38;5;28;01mas\u001b[39;00m e:\n\u001b[0;32m    135\u001b[0m     logger\u001b[38;5;241m.\u001b[39merror(\u001b[38;5;124mf\u001b[39m\u001b[38;5;124m\"\u001b[39m\u001b[38;5;124mError from tabula-java:\u001b[39m\u001b[38;5;130;01m\\n\u001b[39;00m\u001b[38;5;132;01m{\u001b[39;00me\u001b[38;5;241m.\u001b[39mstderr\u001b[38;5;241m.\u001b[39mdecode(\u001b[38;5;28mself\u001b[39m\u001b[38;5;241m.\u001b[39mencoding)\u001b[38;5;132;01m}\u001b[39;00m\u001b[38;5;130;01m\\n\u001b[39;00m\u001b[38;5;124m\"\u001b[39m)\n",
      "\u001b[1;31mJavaNotFoundError\u001b[0m: `java` command is not found from this Python process.Please ensure Java is installed and PATH is set for `java`"
     ]
    }
   ],
   "source": [
    "import tabula\n",
    "import pandas as pd\n",
    "from openpyxl import load_workbook\n",
    "\n",
    "# === CONFIGURAÇÕES ===\n",
    "arquivo_pdf = \""\n",
    "arquivo_excel = \""\n",
    "nome_aba = \""  # ou altere se a aba tiver outro nome\n",
    "coluna_destino = 'C'  # Coluna onde os nomes serão escritos (ex: 'C')\n",
    "\n",
    "# === 1. Lê o PDF e extrai as tabelas ===\n",
    "tabelas = tabula.read_pdf(arquivo_pdf, pages='all', multiple_tables=True)\n",
    "\n",
    "if not tabelas:\n",
    "    print(\"❌ Nenhuma tabela encontrada no PDF.\")\n",
    "else:\n",
    "    df = tabelas[0]\n",
    "\n",
    "    # Tenta identificar a coluna de nomes\n",
    "    for coluna in df.columns:\n",
    "        if \"nome\" in coluna.lower() or \"aluno\" in coluna.lower():\n",
    "            nomes = df[coluna].dropna().tolist()\n",
    "            break\n",
    "    else:\n",
    "        print(\"❌ Nenhuma coluna de nome encontrada.\")\n",
    "        nomes = []\n",
    "\n",
    "    if nomes:\n",
    "        print(f\"✅ {len(nomes)} nomes extraídos do PDF.\")\n",
    "\n",
    "        # === 2. Abre o arquivo Excel existente ===\n",
    "        wb = load_workbook(arquivo_excel)\n",
    "        ws = wb[nome_aba]\n",
    "\n",
    "        # === 3. Preenche a coluna com os nomes (a partir da linha 2) ===\n",
    "        for i, nome in enumerate(nomes, start=2):  # começa na linha 2\n",
    "            cell_ref = f\"{coluna_destino}{i}\"\n",
    "            ws[cell_ref] = nome\n",
    "\n",
    "        # === 4. Salva o arquivo Excel ===\n",
    "        wb.save(arquivo_excel)\n",
    "        print(f\"📁 Excel atualizado com {len(nomes)} nomes em '{coluna_destino}'.\")\n",
    "    else:\n",
    "        print(\"⚠️ Nenhum nome para preencher no Excel.\")\n"
   ]
  },
  {
   "cell_type": "code",
   "execution_count": 3,
   "id": "152c8218-e1ea-4457-b779-a734f53195b8",
   "metadata": {},
   "outputs": [
    {
     "name": "stdout",
     "output_type": "stream",
     "text": [
      "Collecting jpype1\n",
      "  Downloading jpype1-1.5.2-cp313-cp313-win_amd64.whl.metadata (5.0 kB)\n",
      "Requirement already satisfied: packaging in c:\\users\\daniel.santos\\appdata\\local\\anaconda3\\lib\\site-packages (from jpype1) (24.2)\n",
      "Downloading jpype1-1.5.2-cp313-cp313-win_amd64.whl (356 kB)\n",
      "Installing collected packages: jpype1\n",
      "Successfully installed jpype1-1.5.2\n"
     ]
    }
   ],
   "source": [
    "!pip install jpype1\n"
   ]
  },
  {
   "cell_type": "code",
   "execution_count": 5,
   "id": "be87e8dc-7533-4c7a-8b7d-ae7744c3cc77",
   "metadata": {},
   "outputs": [
    {
     "name": "stderr",
     "output_type": "stream",
     "text": [
      "'choco' nÆo ‚ reconhecido como um comando interno\n",
      "ou externo, um programa oper vel ou um arquivo em lotes.\n"
     ]
    }
   ],
   "source": [
    "!choco install openjdk\n"
   ]
  },
  {
   "cell_type": "code",
   "execution_count": 6,
   "id": "1e00cba3-59a9-4244-8125-38356b750368",
   "metadata": {},
   "outputs": [
    {
     "name": "stdout",
     "output_type": "stream",
     "text": [
      "Python version:\n",
      "    3.13.5 | packaged by Anaconda, Inc. | (main, Jun 12 2025, 16:37:03) [MSC v.1929 64 bit (AMD64)]\n",
      "Java version:\n",
      "    `java -version` faild. `java` command is not found from this Pythonprocess. Please ensure Java is installed and PATH is set for `java`\n",
      "tabula-py version: 2.10.0\n",
      "platform: Windows-10-10.0.19045-SP0\n",
      "uname:\n",
      "    uname_result(system='Windows', node='NC-PE04482L', release='10', version='10.0.19045', machine='AMD64')\n",
      "linux_distribution: ('', '', '')\n",
      "mac_ver: ('', ('', '', ''), '')\n"
     ]
    }
   ],
   "source": [
    "import tabula\n",
    "\n",
    "tabula.environment_info()\n",
    "\n"
   ]
  },
  {
   "cell_type": "code",
   "execution_count": 7,
   "id": "b0092462-e781-43bd-be9f-3c1af5cda5e1",
   "metadata": {},
   "outputs": [
    {
     "name": "stderr",
     "output_type": "stream",
     "text": [
      "ERROR: Could not find a version that satisfies the requirement java (from versions: none)\n",
      "ERROR: No matching distribution found for java\n"
     ]
    }
   ],
   "source": [
    "!pip install java\n"
   ]
  },
  {
   "cell_type": "code",
   "execution_count": null,
   "id": "4616caf5-911e-4969-a157-886e21e5ff5a",
   "metadata": {},
   "outputs": [],
   "source": []
  }
 ],
 "metadata": {
  "kernelspec": {
   "display_name": "Python 3 (ipykernel)",
   "language": "python",
   "name": "python3"
  },
  "language_info": {
   "codemirror_mode": {
    "name": "ipython",
    "version": 3
   },
   "file_extension": ".py",
   "mimetype": "text/x-python",
   "name": "python",
   "nbconvert_exporter": "python",
   "pygments_lexer": "ipython3",
   "version": "3.13.5"
  }
 },
 "nbformat": 4,
 "nbformat_minor": 5
}
