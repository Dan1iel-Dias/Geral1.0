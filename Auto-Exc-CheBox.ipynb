{
 "cells": [
  {
   "cell_type": "code",
   "execution_count": 4,
   "id": "07cf93a1-fdf5-4677-92be-8641fcc4918b",
   "metadata": {},
   "outputs": [
    {
     "name": "stdout",
     "output_type": "stream",
     "text": [
      "✅ Caixa marcada na linha 10\n"
     ]
    }
   ],
   "source": [
    "from openpyxl import load_workbook\n",
    "\n",
    "# Carrega o arquivo\n",
    "wb = load_workbook(\"")\n",
    "ws = wb.active\n",
    "\n",
    "# Percorre as linhas (a partir da linha 2)\n",
    "for row in ws.iter_rows(min_row=2, max_col=5):\n",
    "    nome = row[0].value    # Coluna A\n",
    "    curso = row[1].value   # Coluna B\n",
    "\n",
    "    if nome == \"Jhonatas Reis Pinheiro\" and curso == \"Técnico em Administração\":\n",
    "        row[4].value = True  # Coluna E — ativa a checkbox\n",
    "        print(f\"✅ Caixa marcada na linha {row[0].row}\")\n",
    "        break\n",
    "\n",
    "# Salva\n",
    "wb.save(\"Matricula-CheckBox.xlsx\")\n"
   ]
  },
  {
   "cell_type": "code",
   "execution_count": null,
   "id": "80dc3329-27e6-4454-88c1-b1165195b2db",
   "metadata": {},
   "outputs": [],
   "source": []
  }
 ],
 "metadata": {
  "kernelspec": {
   "display_name": "Python 3 (ipykernel)",
   "language": "python",
   "name": "python3"
  },
  "language_info": {
   "codemirror_mode": {
    "name": "ipython",
    "version": 3
   },
   "file_extension": ".py",
   "mimetype": "text/x-python",
   "name": "python",
   "nbconvert_exporter": "python",
   "pygments_lexer": "ipython3",
   "version": "3.13.5"
  }
 },
 "nbformat": 4,
 "nbformat_minor": 5
}
